{
 "nbformat": 4,
 "nbformat_minor": 0,
 "metadata": {
  "colab": {
   "provenance": []
  },
  "kernelspec": {
   "name": "python3",
   "display_name": "Python 3"
  },
  "language_info": {
   "name": "python"
  }
 },
 "cells": [
  {
   "cell_type": "code",
   "source": [
    "import math\n",
    "import nltk\n",
    "## nltk settings\n",
    "nltk.download('punkt')"
   ],
   "metadata": {
    "colab": {
     "base_uri": "https://localhost:8080/"
    },
    "id": "nBwWCH65Yrzh",
    "outputId": "5dfa4035-3b0e-4fbc-b051-c420ebf0f13a"
   },
   "execution_count": 1,
   "outputs": [
    {
     "name": "stderr",
     "output_type": "stream",
     "text": [
      "[nltk_data] Downloading package punkt to\n",
      "[nltk_data]     C:\\Users\\midos\\AppData\\Roaming\\nltk_data...\n",
      "[nltk_data]   Unzipping tokenizers\\punkt.zip.\n"
     ]
    },
    {
     "data": {
      "text/plain": "True"
     },
     "execution_count": 1,
     "metadata": {},
     "output_type": "execute_result"
    }
   ]
  },
  {
   "cell_type": "code",
   "source": [
    "with open(\"Dataset/data.txt\", \"r\") as f:\n",
    "    data = f.read()"
   ],
   "metadata": {
    "id": "jsOWyCirOwFh"
   },
   "execution_count": 2,
   "outputs": []
  },
  {
   "cell_type": "code",
   "source": [
    "def preprocessing(data):\n",
    "    tokens = []\n",
    "    finalTokens = []\n",
    "    sentences = data.split('\\n')\n",
    "    sentences = [s.strip() for s in sentences]\n",
    "    sentences = [s.replace('\"',' ') for s in sentences]\n",
    "    sentences = [s for s in sentences if len(s) > 0]\n",
    "\n",
    "    for sentence in sentences:\n",
    "        sentence = sentence.lower()\n",
    "        token = nltk.word_tokenize(sentence)\n",
    "        tokens.append(token)\n",
    "\n",
    "    for words in tokens:\n",
    "      for word in words:\n",
    "        finalTokens.append(word)\n",
    "    return finalTokens\n",
    "tokens = preprocessing(data)"
   ],
   "metadata": {
    "id": "730affX3WZsz"
   },
   "execution_count": 3,
   "outputs": []
  },
  {
   "cell_type": "code",
   "source": [
    "def ngrame(data,n):\n",
    "  ngrame = []\n",
    "  for i in range(len(data)): \n",
    "    ngrame.append(data[i: i + n])\n",
    "  return ngrame"
   ],
   "metadata": {
    "id": "Y-TCa7bN4xJZ"
   },
   "execution_count": 4,
   "outputs": []
  },
  {
   "cell_type": "code",
   "source": [
    "trigram = ngrame(tokens,3)\n",
    "bigram = ngrame(tokens,2)"
   ],
   "metadata": {
    "id": "g1vgMpD4w3qU"
   },
   "execution_count": 5,
   "outputs": []
  },
  {
   "cell_type": "code",
   "source": [
    "def count_the_words(data,lenth=2):\n",
    "  frequency = {}\n",
    "  for t in data:\n",
    "      if tuple(t) in frequency:\n",
    "        frequency[tuple(t)] += 1\n",
    "      else:\n",
    "        frequency[tuple(t)] = 1\n",
    "\n",
    "  c = 0\n",
    "  trigram_counts = {}\n",
    "  for k, v in frequency.items():\n",
    "    if v >= lenth:\n",
    "      trigram_counts[k] = v\n",
    "    else:\n",
    "      c += v\n",
    "      trigram_counts[\"_\"] = c\n",
    "  return trigram_counts"
   ],
   "metadata": {
    "id": "Ax1BCqQ6WZ73"
   },
   "execution_count": 6,
   "outputs": []
  },
  {
   "cell_type": "code",
   "source": [
    "trigram = count_the_words(trigram)\n",
    "bigram = count_the_words(bigram)"
   ],
   "metadata": {
    "id": "RfN2rkm3WaCb"
   },
   "execution_count": 7,
   "outputs": []
  },
  {
   "cell_type": "code",
   "source": [
    "def buildmodel(trigram,bigram, k=10):\n",
    "  model = []\n",
    "  for trigram_value, trigram_count in trigram.items():\n",
    "      try:\n",
    "          prob = (trigram_count + k) / (bigram[trigram_value[:-1]] + (k * len(trigram)))\n",
    "          sum_prob = ++prob\n",
    "      except KeyError:\n",
    "          prob = (trigram_count + k) / (bigram[\"_\"] + (k * len(trigram)))\n",
    "          sum_prob = ++math.log(prob)\n",
    "      model.append([trigram_value, prob])\n",
    "  return model"
   ],
   "metadata": {
    "id": "BubgLpRMsVu_"
   },
   "execution_count": 8,
   "outputs": []
  },
  {
   "cell_type": "code",
   "source": [
    "model = buildmodel(trigram,bigram)"
   ],
   "metadata": {
    "id": "CMhb3QCDDa50"
   },
   "execution_count": 9,
   "outputs": []
  },
  {
   "cell_type": "code",
   "source": [
    "def suggestion(model,input):\n",
    "  suggest = []\n",
    "  input = input.lower()\n",
    "  for p, v in model:\n",
    "    if p == '_':\n",
    "      continue\n",
    "    for i in range(len(p)):\n",
    "      if not (p[i].startswith(input)):\n",
    "        continue\n",
    "      arr = []\n",
    "      if i == 0:\n",
    "        arr.append(p[0])\n",
    "        arr.append(p[1])\n",
    "        arr.append(p[2])\n",
    "      elif i==1:\n",
    "        arr.append(p[1])\n",
    "        arr.append(p[2])\n",
    "      if len(arr):\n",
    "        suggest.append((arr,v))\n",
    "  return filter(suggest)"
   ],
   "metadata": {
    "id": "ZVhZ5OwbWaJT"
   },
   "execution_count": 10,
   "outputs": []
  },
  {
   "cell_type": "code",
   "source": [
    "def filter(suggest):\n",
    "  filterd = []\n",
    "  temp = []\n",
    "  final_suggest = []\n",
    "  for i in suggest:\n",
    "    if temp.count(i[0]) == 0:\n",
    "      filterd.append(i)\n",
    "      temp.append(i[0])\n",
    "    else:\n",
    "      tup = [item for item in filterd if i[0] in item]\n",
    "      if i[1] > tup[0][1]:\n",
    "        index = filterd.index(tup[0])\n",
    "        filterd[index] = i\n",
    "  filterd.sort(key=lambda a: a[1],reverse = True)\n",
    "  for i in filterd:\n",
    "    arr = []\n",
    "    for j in i[0]:\n",
    "      arr.append(j)\n",
    "    final_suggest.append(arr)\n",
    "  return final_suggest"
   ],
   "metadata": {
    "id": "jA7T50aobi59"
   },
   "execution_count": 11,
   "outputs": []
  },
  {
   "cell_type": "code",
   "source": [
    "Allsuggestion=suggestion(model,\"federation\")"
   ],
   "metadata": {
    "id": "fkDhJMDTnsWS"
   },
   "execution_count": 18,
   "outputs": []
  },
  {
   "cell_type": "code",
   "source": [
    "def printsuggestion(Allsuggestion):\n",
    "  for i in Allsuggestion:\n",
    "    string = \" \"\n",
    "    for j in i:\n",
    "      string+=j\n",
    "      string+=\" \"\n",
    "    print(string)\n",
    "printsuggestion(Allsuggestion)"
   ],
   "metadata": {
    "colab": {
     "base_uri": "https://localhost:8080/"
    },
    "id": "JMf1dIOqWaPd",
    "outputId": "2121b38d-5462-4e01-aa00-e6a94c5f43a8"
   },
   "execution_count": 19,
   "outputs": [
    {
     "name": "stdout",
     "output_type": "stream",
     "text": [
      " federation conference in \n",
      " federation itself \n",
      " federation conference \n"
     ]
    }
   ]
  },
  {
   "cell_type": "code",
   "execution_count": null,
   "outputs": [],
   "source": [],
   "metadata": {
    "collapsed": false
   }
  }
 ]
}
